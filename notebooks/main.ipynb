{
 "cells": [
  {
   "cell_type": "code",
   "execution_count": 7,
   "metadata": {},
   "outputs": [],
   "source": [
    "import pandas as pd\n",
    "\n",
    "df_train = pd.read_csv('../data/raw/train.csv')"
   ]
  },
  {
   "cell_type": "code",
   "execution_count": 8,
   "metadata": {},
   "outputs": [
    {
     "name": "stderr",
     "output_type": "stream",
     "text": [
      "[I 2025-01-31 15:24:19,447] A new study created in memory with name: no-name-0c13e386-c93d-4387-a465-34d60d8a265d\n"
     ]
    },
    {
     "data": {
      "application/vnd.jupyter.widget-view+json": {
       "model_id": "fe7b399a45c94c52b75f3cd983ffac97",
       "version_major": 2,
       "version_minor": 0
      },
      "text/plain": [
       "  0%|          | 0/7 [00:00<?, ?it/s]"
      ]
     },
     "metadata": {},
     "output_type": "display_data"
    },
    {
     "name": "stdout",
     "output_type": "stream",
     "text": [
      "[I 2025-01-31 15:24:26,030] Trial 0 finished with value: 0.7544862971879309 and parameters: {'iterations': 267, 'depth': 6, 'learning_rate': 0.11546554311730166, 'l2_leaf_reg': 5.180150082882407, 'random_strength': 0.1542968575797714, 'bagging_temperature': 0.8506264893606051, 'border_count': 129}. Best is trial 0 with value: 0.7544862971879309.\n",
      "[I 2025-01-31 15:24:53,201] Trial 1 finished with value: 0.7373486447647382 and parameters: {'iterations': 600, 'depth': 10, 'learning_rate': 0.11117648956543628, 'l2_leaf_reg': 3.292913821783733, 'random_strength': 3.6225081709504887, 'bagging_temperature': 0.03096290274311675, 'border_count': 218}. Best is trial 0 with value: 0.7544862971879309.\n",
      "[I 2025-01-31 15:24:57,849] Trial 2 finished with value: 0.7067611543781374 and parameters: {'iterations': 359, 'depth': 4, 'learning_rate': 0.0018352530407874472, 'l2_leaf_reg': 6.3605961594870015, 'random_strength': 7.530839233086073, 'bagging_temperature': 0.3326336532748174, 'border_count': 80}. Best is trial 0 with value: 0.7544862971879309.\n",
      "[I 2025-01-31 15:25:06,379] Trial 3 finished with value: 0.7348999251956905 and parameters: {'iterations': 474, 'depth': 7, 'learning_rate': 0.0030096204396053545, 'l2_leaf_reg': 3.8191850328463386, 'random_strength': 0.09643562708438598, 'bagging_temperature': 0.4284929448609073, 'border_count': 90}. Best is trial 0 with value: 0.7544862971879309.\n",
      "[I 2025-01-31 15:25:11,975] Trial 4 finished with value: 0.7086376547759579 and parameters: {'iterations': 540, 'depth': 4, 'learning_rate': 0.0016726733154767285, 'l2_leaf_reg': 1.3560663901254653, 'random_strength': 7.4541740356032395, 'bagging_temperature': 0.7869744487858447, 'border_count': 177}. Best is trial 0 with value: 0.7544862971879309.\n",
      "[I 2025-01-31 15:25:38,065] Trial 5 finished with value: 0.7386134629389653 and parameters: {'iterations': 576, 'depth': 10, 'learning_rate': 0.0037273910241352876, 'l2_leaf_reg': 5.403972633486717, 'random_strength': 2.5003789872241278, 'bagging_temperature': 0.346538425560043, 'border_count': 179}. Best is trial 0 with value: 0.7544862971879309.\n",
      "[I 2025-01-31 15:25:42,668] Trial 6 finished with value: 0.7393177514039555 and parameters: {'iterations': 357, 'depth': 6, 'learning_rate': 0.006730626133653301, 'l2_leaf_reg': 9.448778019447554, 'random_strength': 0.11671622129870274, 'bagging_temperature': 0.8410426596273513, 'border_count': 33}. Best is trial 0 with value: 0.7544862971879309.\n",
      "Number of finished trials: 7\n",
      "Best trial:\n",
      "  Value (AUC): 0.7544862971879309\n",
      "  Params: \n",
      "    iterations: 267\n",
      "    depth: 6\n",
      "    learning_rate: 0.11546554311730166\n",
      "    l2_leaf_reg: 5.180150082882407\n",
      "    random_strength: 0.1542968575797714\n",
      "    bagging_temperature: 0.8506264893606051\n",
      "    border_count: 129\n",
      "0:\tlearn: 0.6766957\ttotal: 5.44ms\tremaining: 1.45s\n",
      "100:\tlearn: 0.5548387\ttotal: 493ms\tremaining: 811ms\n",
      "200:\tlearn: 0.5218764\ttotal: 960ms\tremaining: 315ms\n",
      "266:\tlearn: 0.5035506\ttotal: 1.25s\tremaining: 0us\n"
     ]
    },
    {
     "data": {
      "text/plain": [
       "<catboost.core.CatBoostClassifier at 0x1500e0e90>"
      ]
     },
     "execution_count": 8,
     "metadata": {},
     "output_type": "execute_result"
    }
   ],
   "source": [
    "import optuna\n",
    "import pandas as pd\n",
    "from catboost import CatBoostClassifier\n",
    "from sklearn.model_selection import StratifiedKFold, cross_val_score\n",
    "\n",
    "# Replace with your actual path and filename\n",
    "df_train = pd.read_csv('../data/raw/train.csv')\n",
    "\n",
    "# Separate features (X) and target (y)\n",
    "# Replace 'target' with the name of your actual target column\n",
    "target = 'efs'\n",
    "X = df_train.drop([target, 'efs_time'], axis=1)\n",
    "X = pd.get_dummies(X, dummy_na=True)\n",
    "y = df_train[target]\n",
    "\n",
    "\n",
    "def objective(trial):\n",
    "    # --- 3.1. Suggest values of hyperparameters from Optuna ---\n",
    "    param = {\n",
    "        'iterations': trial.suggest_int('iterations', 100, 1000),\n",
    "        'depth': trial.suggest_int('depth', 3, 10),\n",
    "        'learning_rate': trial.suggest_float('learning_rate', 1e-3, 0.3, log=True),\n",
    "        'l2_leaf_reg': trial.suggest_float('l2_leaf_reg', 1.0, 10.0),\n",
    "        'random_strength': trial.suggest_float('random_strength', 1e-2, 10.0, log=True),\n",
    "        'bagging_temperature': trial.suggest_float('bagging_temperature', 0.0, 1.0),\n",
    "        'border_count': trial.suggest_int('border_count', 32, 256),\n",
    "        'verbose': 0,                # Suppress CatBoost training output\n",
    "        'random_state': 42           # Ensures reproducibility\n",
    "    }\n",
    "\n",
    "    # --- 3.2. Define the model ---\n",
    "    model = CatBoostClassifier(**param)\n",
    "\n",
    "    # --- 3.3. Evaluate using cross-validation ---\n",
    "    # Using StratifiedKFold for classification\n",
    "    cv = StratifiedKFold(n_splits=5, shuffle=True, random_state=42)\n",
    "\n",
    "    # Use scoring='roc_auc' for AUC; you can change this to 'accuracy', etc.\n",
    "    cv_scores = cross_val_score(model, X, y, cv=cv, scoring='roc_auc', n_jobs=-1)\n",
    "\n",
    "    # --- 3.4. The objective to maximize (Optuna will try to find best hyperparams for the highest AUC) ---\n",
    "    return cv_scores.mean()\n",
    "\n",
    "# Create study - we want to maximize the AUC\n",
    "study = optuna.create_study(direction='maximize')\n",
    "\n",
    "# Run optimization. You can adjust n_trials to fit your needs.\n",
    "study.optimize(objective, n_trials=7, show_progress_bar=True)\n",
    "\n",
    "print(\"Number of finished trials:\", len(study.trials))\n",
    "print(\"Best trial:\")\n",
    "trial_ = study.best_trial\n",
    "\n",
    "print(\"  Value (AUC):\", trial_.value)\n",
    "print(\"  Params: \")\n",
    "for key, value in trial_.params.items():\n",
    "    print(f\"    {key}: {value}\")\n",
    "\n",
    "\n",
    "best_params = study.best_params\n",
    "\n",
    "# You may want to set verbose=100 if you want to monitor training logs\n",
    "# or keep it at 0 (silent) for no logs\n",
    "final_model = CatBoostClassifier(\n",
    "    **best_params,\n",
    "    verbose=100,         # or 0\n",
    "    random_state=42\n",
    ")\n",
    "\n",
    "final_model.fit(X, y)"
   ]
  },
  {
   "cell_type": "code",
   "execution_count": 9,
   "metadata": {},
   "outputs": [],
   "source": [
    "# # save the model\n",
    "# import joblib\n",
    "# joblib.dump(final_model, '../models/catboost_model.pkl')"
   ]
  },
  {
   "cell_type": "code",
   "execution_count": 10,
   "metadata": {},
   "outputs": [],
   "source": [
    "df_test = pd.read_csv('../data/raw/test.csv')"
   ]
  },
  {
   "cell_type": "code",
   "execution_count": 11,
   "metadata": {},
   "outputs": [
    {
     "ename": "CatBoostError",
     "evalue": "catboost/libs/data/model_dataset_compatibility.cpp:81: At position 23 should be feature with name dri_score_High (found dri_score_Intermediate).",
     "output_type": "error",
     "traceback": [
      "\u001b[0;31m---------------------------------------------------------------------------\u001b[0m",
      "\u001b[0;31mCatBoostError\u001b[0m                             Traceback (most recent call last)",
      "Cell \u001b[0;32mIn[11], line 3\u001b[0m\n\u001b[1;32m      1\u001b[0m \u001b[38;5;66;03m# make predictions\u001b[39;00m\n\u001b[1;32m      2\u001b[0m X_test \u001b[38;5;241m=\u001b[39m pd\u001b[38;5;241m.\u001b[39mget_dummies(df_test, dummy_na\u001b[38;5;241m=\u001b[39m\u001b[38;5;28;01mTrue\u001b[39;00m)\n\u001b[0;32m----> 3\u001b[0m y_pred \u001b[38;5;241m=\u001b[39m final_model\u001b[38;5;241m.\u001b[39mpredict(X_test)\n",
      "File \u001b[0;32m~/miniconda3/envs/datascience/lib/python3.11/site-packages/catboost/core.py:5307\u001b[0m, in \u001b[0;36mCatBoostClassifier.predict\u001b[0;34m(self, data, prediction_type, ntree_start, ntree_end, thread_count, verbose, task_type)\u001b[0m\n\u001b[1;32m   5250\u001b[0m \u001b[38;5;28;01mdef\u001b[39;00m \u001b[38;5;21mpredict\u001b[39m(\u001b[38;5;28mself\u001b[39m, data, prediction_type\u001b[38;5;241m=\u001b[39m\u001b[38;5;124m'\u001b[39m\u001b[38;5;124mClass\u001b[39m\u001b[38;5;124m'\u001b[39m, ntree_start\u001b[38;5;241m=\u001b[39m\u001b[38;5;241m0\u001b[39m, ntree_end\u001b[38;5;241m=\u001b[39m\u001b[38;5;241m0\u001b[39m, thread_count\u001b[38;5;241m=\u001b[39m\u001b[38;5;241m-\u001b[39m\u001b[38;5;241m1\u001b[39m, verbose\u001b[38;5;241m=\u001b[39m\u001b[38;5;28;01mNone\u001b[39;00m, task_type\u001b[38;5;241m=\u001b[39m\u001b[38;5;124m\"\u001b[39m\u001b[38;5;124mCPU\u001b[39m\u001b[38;5;124m\"\u001b[39m):\n\u001b[1;32m   5251\u001b[0m \u001b[38;5;250m    \u001b[39m\u001b[38;5;124;03m\"\"\"\u001b[39;00m\n\u001b[1;32m   5252\u001b[0m \u001b[38;5;124;03m    Predict with data.\u001b[39;00m\n\u001b[1;32m   5253\u001b[0m \n\u001b[0;32m   (...)\u001b[0m\n\u001b[1;32m   5305\u001b[0m \u001b[38;5;124;03m              with log probability for every class for each object.\u001b[39;00m\n\u001b[1;32m   5306\u001b[0m \u001b[38;5;124;03m    \"\"\"\u001b[39;00m\n\u001b[0;32m-> 5307\u001b[0m     \u001b[38;5;28;01mreturn\u001b[39;00m \u001b[38;5;28mself\u001b[39m\u001b[38;5;241m.\u001b[39m_predict(data, prediction_type, ntree_start, ntree_end, thread_count, verbose, \u001b[38;5;124m'\u001b[39m\u001b[38;5;124mpredict\u001b[39m\u001b[38;5;124m'\u001b[39m, task_type)\n",
      "File \u001b[0;32m~/miniconda3/envs/datascience/lib/python3.11/site-packages/catboost/core.py:2623\u001b[0m, in \u001b[0;36mCatBoost._predict\u001b[0;34m(self, data, prediction_type, ntree_start, ntree_end, thread_count, verbose, parent_method_name, task_type)\u001b[0m\n\u001b[1;32m   2620\u001b[0m data, data_is_single_object \u001b[38;5;241m=\u001b[39m \u001b[38;5;28mself\u001b[39m\u001b[38;5;241m.\u001b[39m_process_predict_input_data(data, parent_method_name, thread_count)\n\u001b[1;32m   2621\u001b[0m \u001b[38;5;28mself\u001b[39m\u001b[38;5;241m.\u001b[39m_validate_prediction_type(prediction_type)\n\u001b[0;32m-> 2623\u001b[0m predictions \u001b[38;5;241m=\u001b[39m \u001b[38;5;28mself\u001b[39m\u001b[38;5;241m.\u001b[39m_base_predict(data, prediction_type, ntree_start, ntree_end, thread_count, verbose, task_type)\n\u001b[1;32m   2624\u001b[0m \u001b[38;5;28;01mreturn\u001b[39;00m predictions[\u001b[38;5;241m0\u001b[39m] \u001b[38;5;28;01mif\u001b[39;00m data_is_single_object \u001b[38;5;28;01melse\u001b[39;00m predictions\n",
      "File \u001b[0;32m~/miniconda3/envs/datascience/lib/python3.11/site-packages/catboost/core.py:1842\u001b[0m, in \u001b[0;36m_CatBoostBase._base_predict\u001b[0;34m(self, pool, prediction_type, ntree_start, ntree_end, thread_count, verbose, task_type)\u001b[0m\n\u001b[1;32m   1841\u001b[0m \u001b[38;5;28;01mdef\u001b[39;00m \u001b[38;5;21m_base_predict\u001b[39m(\u001b[38;5;28mself\u001b[39m, pool, prediction_type, ntree_start, ntree_end, thread_count, verbose, task_type):\n\u001b[0;32m-> 1842\u001b[0m     \u001b[38;5;28;01mreturn\u001b[39;00m \u001b[38;5;28mself\u001b[39m\u001b[38;5;241m.\u001b[39m_object\u001b[38;5;241m.\u001b[39m_base_predict(pool, prediction_type, ntree_start, ntree_end, thread_count, verbose, task_type)\n",
      "File \u001b[0;32m_catboost.pyx:5153\u001b[0m, in \u001b[0;36m_catboost._CatBoost._base_predict\u001b[0;34m()\u001b[0m\n",
      "File \u001b[0;32m_catboost.pyx:5160\u001b[0m, in \u001b[0;36m_catboost._CatBoost._base_predict\u001b[0;34m()\u001b[0m\n",
      "\u001b[0;31mCatBoostError\u001b[0m: catboost/libs/data/model_dataset_compatibility.cpp:81: At position 23 should be feature with name dri_score_High (found dri_score_Intermediate)."
     ]
    }
   ],
   "source": [
    "# make predictions\n",
    "X_test = pd.get_dummies(df_test, dummy_na=True)\n",
    "y_pred = final_model.predict(X_test)"
   ]
  }
 ],
 "metadata": {
  "kernelspec": {
   "display_name": "datascience",
   "language": "python",
   "name": "python3"
  },
  "language_info": {
   "codemirror_mode": {
    "name": "ipython",
    "version": 3
   },
   "file_extension": ".py",
   "mimetype": "text/x-python",
   "name": "python",
   "nbconvert_exporter": "python",
   "pygments_lexer": "ipython3",
   "version": "3.11.11"
  }
 },
 "nbformat": 4,
 "nbformat_minor": 2
}
